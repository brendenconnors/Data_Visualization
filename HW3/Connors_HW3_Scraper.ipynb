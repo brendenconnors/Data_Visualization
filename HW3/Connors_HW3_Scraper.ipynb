{
 "cells": [
  {
   "cell_type": "code",
   "execution_count": 2,
   "metadata": {},
   "outputs": [],
   "source": [
    "from bs4 import BeautifulSoup\n",
    "from urllib.request import Request, urlopen\n",
    "import os\n",
    "import pandas as pd\n",
    "import numpy as np\n",
    "import plotly.express as px\n"
   ]
  },
  {
   "cell_type": "code",
   "execution_count": 3,
   "metadata": {},
   "outputs": [],
   "source": [
    "url=r'https://www.basketball-reference.com/friv/birthplaces.fcgi'\n",
    "req = Request(url)\n",
    "html_page = urlopen(req)\n",
    "\n",
    "soup = BeautifulSoup(html_page, \"lxml\")\n",
    "\n",
    "links = []\n",
    "for link in soup.findAll('a'):\n",
    "    links.append(link.get('href'))\n",
    "\n",
    "links=set(links)"
   ]
  },
  {
   "cell_type": "code",
   "execution_count": 4,
   "metadata": {},
   "outputs": [],
   "source": [
    "foreign_links = [link for link in links if 'birthplaces' in link if 'country=US' not in link]\n"
   ]
  },
  {
   "cell_type": "code",
   "execution_count": 4,
   "metadata": {},
   "outputs": [
    {
     "name": "stderr",
     "output_type": "stream",
     "text": [
      "C:\\Users\\conno\\anaconda3\\lib\\site-packages\\pandas\\core\\ops\\array_ops.py:253: FutureWarning: elementwise comparison failed; returning scalar instead, but in the future will perform elementwise comparison\n",
      "  res_values = method(rvalues)\n"
     ]
    }
   ],
   "source": [
    "all_countries=[]\n",
    "for link in foreign_links:\n",
    "    \n",
    "    url='https://www.basketball-reference.com'+link\n",
    "    req = Request(url)\n",
    "    html_page = urlopen(req)\n",
    "\n",
    "    soup = BeautifulSoup(html_page)\n",
    "    tables = soup.findAll('table')\n",
    "    \n",
    "    df = pd.read_html(tables[0].prettify())[0]\n",
    "    country = soup.findAll('title')[0].text.split('Born in')[1].split('|')[0].strip()\n",
    "    \n",
    "    \n",
    "    df.columns = df.columns.droplevel()\n",
    "    df[df['Rk']!='Rk']\n",
    "    \n",
    "    df['Country']=country\n",
    "    all_countries.append(df)"
   ]
  },
  {
   "cell_type": "code",
   "execution_count": 5,
   "metadata": {},
   "outputs": [],
   "source": [
    "col_names = ['Rk', 'Player', 'Yrs', 'From', 'To', 'G', 'MP_total', 'FG', 'FGA', '3P',\n",
    "       '3PA', 'FT', 'FTA', 'ORB', 'TRB_total', 'AST_total', 'STL', 'BLK', 'TOV', 'PF',\n",
    "       'PTS_total', 'FG%', '3P%', 'FT%', 'MP', 'PTS', 'TRB', 'AST', 'Date', 'City',\n",
    "       'Country']\n",
    "\n",
    "df = pd.concat(all_countries,axis=0, ignore_index=True)\n",
    "df.columns = col_names\n",
    "df.MP_total = df.MP_total.fillna(0)\n",
    "df=df[df['Rk']!='Rk']\n",
    "df.MP_total = df.MP_total.astype(float)\n",
    "df.drop(['Rk'],axis=1,inplace=True) #drop rk column\n",
    "df.drop(df.columns[[23,24,25,26]],axis=1,inplace=True) #drop per game columns, they have repeat names, recalculated easy if you want them\n",
    "\n",
    "#fix misspellings\n",
    "df.replace('Slavoska Pozega','Slavonska Pozega',inplace=True)\n",
    "df.replace('Worzbach','Wurzbach',inplace=True)\n",
    "df.replace('Eleuthra','Eleuthera',inplace=True)\n",
    "df.replace('Albonito','Aibonito',inplace=True)\n",
    "df.replace('Juiz de Forz','Juiz de Fora',inplace=True)\n",
    "df.replace('Republic of Macedonia','North Macedonia',inplace=True)\n",
    "#These next two return incorrect lat,lon with geopy. Including a comma after fixes this\n",
    "df.replace('Buenos Aires','Buenos Aires,',inplace=True) \n",
    "df.replace('Valencia','Valencia,',inplace=True)\n",
    "\n",
    "\n",
    "#drop players with no recorded hometown, 10 players are dropped\n",
    "df.dropna(subset=['City'],inplace=True)"
   ]
  },
  {
   "cell_type": "code",
   "execution_count": 6,
   "metadata": {},
   "outputs": [],
   "source": [
    "from geopy.geocoders import Nominatim\n",
    "\n",
    "geolocator = Nominatim(user_agent=\"My_app\")\n",
    "latitudes=[]\n",
    "longitudes=[]\n",
    "\n",
    "for city,country in zip(df.City,df.Country):\n",
    "    location = geolocator.geocode(str(city)+' '+str(country))\n",
    "    latitudes.append(location.latitude)\n",
    "    longitudes.append(location.longitude)\n",
    "\n"
   ]
  },
  {
   "cell_type": "code",
   "execution_count": 13,
   "metadata": {},
   "outputs": [],
   "source": [
    "\n",
    "df.To = df.To.astype(str)\n",
    "df.To.replace('2020', \"Active\",inplace=True)\n",
    "df['Latitude']=latitudes\n",
    "df['Longitude']=longitudes\n",
    "df.G = df.G.astype(int)\n",
    "df.PTS_total = df.PTS_total.astype(int)\n",
    "df.From = df.From.astype(int)\n",
    "df.TRB_total = df.TRB_total.fillna(0).astype(int)\n",
    "df.AST_total = df.AST_total.astype(int)\n",
    "df.sort_values('From',inplace=True)\n",
    "df['Decade'] = df.From.astype(str).str[:3]+'0\\'s'\n",
    "df['Minutes_per_game']=(df['MP_total']/df['G']).round(1)\n",
    "df['Points_per_game'] = (df['PTS_total']/df['G']).round(1)\n",
    "df['Assists_per_game'] = (df['AST_total']/df['G']).round(1)\n",
    "df['Rebounds_per_game'] = (df['TRB_total']/df['G']).round(1)\n",
    "df = df[df['From']<2020]\n",
    "df = df[df['From']>1949]\n",
    "df['Latitude']=df['Latitude']+np.random.randn(len(df))*0.1\n",
    "df['Longitude']=df['Longitude']+np.random.randn(len(df))*0.1\n",
    "df['Size']=[1 for x in range(len(df))]\n"
   ]
  },
  {
   "cell_type": "code",
   "execution_count": 60,
   "metadata": {},
   "outputs": [],
   "source": [
    "df.to_csv('International_NBA.csv',index=False)"
   ]
  }
 ],
 "metadata": {
  "kernelspec": {
   "display_name": "Python 3",
   "language": "python",
   "name": "python3"
  },
  "language_info": {
   "codemirror_mode": {
    "name": "ipython",
    "version": 3
   },
   "file_extension": ".py",
   "mimetype": "text/x-python",
   "name": "python",
   "nbconvert_exporter": "python",
   "pygments_lexer": "ipython3",
   "version": "3.8.3"
  }
 },
 "nbformat": 4,
 "nbformat_minor": 4
}
